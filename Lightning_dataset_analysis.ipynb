{
 "cells": [
  {
   "cell_type": "code",
   "execution_count": 1,
   "metadata": {},
   "outputs": [],
   "source": [
    "import joblib\n",
    "import cv2\n",
    "import numpy as np\n",
    "from matplotlib import pyplot as plot\n",
    "from tqdm import tqdm\n",
    "import os\n",
    "# On some Linux systems setting file locking to false is also necessary:\n",
    "import os\n",
    "os.environ[\"HDF5_USE_FILE_LOCKING\"]='FALSE' \n",
    "import h5py # needs conda/pip install h5py\n",
    "import matplotlib.pyplot as plt\n",
    "import pandas as pd\n",
    "from sevir.display import get_cmap\n",
    "import matplotlib"
   ]
  },
  {
   "cell_type": "code",
   "execution_count": 2,
   "metadata": {},
   "outputs": [],
   "source": [
    "DATA_PATH    = '../../sevir_data_copy/data'\n",
    "CATALOG_PATH = '../../sevir_data_copy/CATALOG.csv' \n"
   ]
  },
  {
   "cell_type": "code",
   "execution_count": 3,
   "metadata": {},
   "outputs": [],
   "source": [
    "from joblib import Parallel, delayed"
   ]
  },
  {
   "cell_type": "code",
   "execution_count": 4,
   "metadata": {},
   "outputs": [],
   "source": [
    "data = joblib.load(\"./cluster_lght_data_2.pickle\")"
   ]
  },
  {
   "cell_type": "code",
   "execution_count": 5,
   "metadata": {},
   "outputs": [],
   "source": [
    "cluster_counts = []\n",
    "for datapoint in data:\n",
    "    if(datapoint is not None):\n",
    "        for data_dict in datapoint[2]:\n",
    "            for label in data_dict.keys():\n",
    "                if(type(label) is not str):\n",
    "                    cluster_counts.append(data_dict[label][\"count\"])"
   ]
  },
  {
   "cell_type": "code",
   "execution_count": null,
   "metadata": {},
   "outputs": [],
   "source": [
    "[datapoint[0]+\"_\" + str(i) for datapoint in data if datapoint is not None for i in range(len(datapoint[1]))]"
   ]
  },
  {
   "cell_type": "code",
   "execution_count": 7,
   "metadata": {},
   "outputs": [
    {
     "data": {
      "text/plain": [
       "(array([0.00000000e+00, 0.00000000e+00, 0.00000000e+00, 0.00000000e+00,\n",
       "        0.00000000e+00, 5.05547355e-02, 5.94694637e-04, 3.83016895e-04,\n",
       "        6.87054029e-04, 8.80459588e-04, 4.78758139e-02, 4.04204639e-03,\n",
       "        3.00402667e-03, 3.26053616e-03, 3.96516344e-03, 4.69854693e-03,\n",
       "        3.82648456e-02, 5.92048665e-03, 6.68102880e-03, 5.83052361e-03,\n",
       "        7.30447966e-03, 2.75592438e-02, 7.04567367e-03, 5.66237959e-03,\n",
       "        6.47484270e-03, 5.56293099e-03, 1.71118489e-02, 4.63184847e-03,\n",
       "        4.60199392e-03, 4.06051827e-03, 3.91783549e-03, 3.56856721e-03,\n",
       "        9.47817043e-03, 2.83478432e-03, 2.79464543e-03, 2.20684031e-03,\n",
       "        2.48591544e-03, 5.66128127e-03, 2.00155284e-03, 1.61524096e-03,\n",
       "        1.76970580e-03, 1.57889629e-03, 3.41070754e-03, 1.26826919e-03,\n",
       "        1.27605733e-03, 1.14725342e-03, 1.14964977e-03, 1.03881850e-03,\n",
       "        2.00335010e-03, 8.75467189e-04, 8.56895462e-04, 7.46463584e-04,\n",
       "        7.95988188e-04, 1.28564274e-03, 6.62990663e-04, 5.75723519e-04,\n",
       "        5.95293725e-04, 5.48864409e-04, 8.52701847e-04, 4.55206993e-04,\n",
       "        4.58302281e-04, 4.16066580e-04, 4.18862324e-04, 3.86511575e-04,\n",
       "        5.46368209e-04, 3.25704148e-04, 3.25903844e-04, 2.71286993e-04,\n",
       "        2.80073616e-04, 3.70436048e-04, 2.48222107e-04, 2.08582454e-04,\n",
       "        2.21362997e-04, 1.96500847e-04, 2.54412682e-04, 1.74134897e-04,\n",
       "        1.64549490e-04, 1.49771987e-04, 1.52268187e-04, 1.28404517e-04,\n",
       "        1.61454202e-04, 1.14725342e-04, 1.21015766e-04, 1.01146015e-04,\n",
       "        9.46558959e-05, 1.07336591e-04, 8.26741369e-05, 7.56847775e-05,\n",
       "        7.74820413e-05, 6.89949621e-05, 7.74820413e-05, 5.23203475e-05,\n",
       "        5.75124431e-05, 5.30192834e-05, 5.36183714e-05, 4.73279479e-05,\n",
       "        5.00238437e-05, 3.75428448e-05, 3.88408687e-05, 4.52311401e-05]),\n",
       " array([  0.,   3.,   6.,   9.,  12.,  15.,  18.,  21.,  24.,  27.,  30.,\n",
       "         33.,  36.,  39.,  42.,  45.,  48.,  51.,  54.,  57.,  60.,  63.,\n",
       "         66.,  69.,  72.,  75.,  78.,  81.,  84.,  87.,  90.,  93.,  96.,\n",
       "         99., 102., 105., 108., 111., 114., 117., 120., 123., 126., 129.,\n",
       "        132., 135., 138., 141., 144., 147., 150., 153., 156., 159., 162.,\n",
       "        165., 168., 171., 174., 177., 180., 183., 186., 189., 192., 195.,\n",
       "        198., 201., 204., 207., 210., 213., 216., 219., 222., 225., 228.,\n",
       "        231., 234., 237., 240., 243., 246., 249., 252., 255., 258., 261.,\n",
       "        264., 267., 270., 273., 276., 279., 282., 285., 288., 291., 294.,\n",
       "        297., 300.]),\n",
       " <a list of 100 Patch objects>)"
      ]
     },
     "execution_count": 7,
     "metadata": {},
     "output_type": "execute_result"
    },
    {
     "data": {
      "image/png": "[encoded data removed]",
      "text/plain": [
       "<Figure size 432x288 with 1 Axes>"
      ]
     },
     "metadata": {
      "needs_background": "light"
     },
     "output_type": "display_data"
    }
   ],
   "source": [
    "plot.hist(cluster_counts, bins=100, density=True, range=(0,300))"
   ]
  },
  {
   "cell_type": "code",
   "execution_count": 5,
   "metadata": {},
   "outputs": [],
   "source": [
    "def read_data( sample_event, img_type, data_path=DATA_PATH ):\n",
    "    \"\"\"\n",
    "    Reads single SEVIR event for a given image type.\n",
    "    \n",
    "    Parameters\n",
    "    ----------\n",
    "    sample_event   pd.DataFrame\n",
    "        SEVIR catalog rows matching a single ID\n",
    "    img_type   str\n",
    "        SEVIR image type\n",
    "    data_path  str\n",
    "        Location of SEVIR data\n",
    "    \n",
    "    Returns\n",
    "    -------\n",
    "    np.array\n",
    "       LxLx49 tensor containing event data\n",
    "    \"\"\"\n",
    "    fn = sample_event[sample_event.img_type==img_type].squeeze().file_name\n",
    "    fi = sample_event[sample_event.img_type==img_type].squeeze().file_index\n",
    "    if(type(fn) is not pd.Series):\n",
    "        with h5py.File(data_path + '/' + fn,'r') as hf:\n",
    "            data=hf[img_type][fi] \n",
    "        return data\n",
    "    else:\n",
    "        return None"
   ]
  },
  {
   "cell_type": "code",
   "execution_count": 6,
   "metadata": {},
   "outputs": [],
   "source": [
    "def convert_to_norm_cmap(sevir_np_data, sevir_dtype):\n",
    "    #print(sevir_np_data[:,:,0])\n",
    "    cmap,norm,vmin,vmax = get_cmap(sevir_dtype)\n",
    "    sm = matplotlib.cm.ScalarMappable(cmap=cmap,norm=norm)\n",
    "    new_data = cv2.cvtColor(sm.to_rgba(sevir_np_data).astype(np.float32), cv2.COLOR_RGBA2RGB)\n",
    "    print(new_data)\n",
    "    #print(sm.to_rgba(sevir_np_data).shape)\n",
    "    return cv2.cvtColor(sm.to_rgba(sevir_np_data).astype(np.float32), cv2.COLOR_RGBA2RGB)"
   ]
  },
  {
   "cell_type": "code",
   "execution_count": 7,
   "metadata": {},
   "outputs": [],
   "source": [
    "catalog = pd.read_csv(CATALOG_PATH,parse_dates=['time_utc'],low_memory=False)\n",
    "img_types = set(['vis','ir069','ir107','vil'])\n",
    "events = catalog.groupby('id').filter(lambda x: img_types.issubset(set(x['img_type']))).groupby('id')\n",
    "\n",
    "def process_datapoint_with_vis_data(datapoint):\n",
    "    if(datapoint is not None):\n",
    "        sevir_id = datapoint[0]\n",
    "        sample_event = events.get_group(sevir_id)\n",
    "        vis_data = read_data(sample_event, \"vis\")\n",
    "        if(vis_data is not None):\n",
    "            processed_data = []\n",
    "            for i in range(datapoint[1].shape[-1]):\n",
    "                datapoint_id = datapoint[0]+\"_time_\"+str(i)\n",
    "                processed_data.append((datapoint_id, convert_to_norm_cmap(datapoint[1][:,:,i], \"ir069\"),cv2.resize(convert_to_norm_cmap(vis_data[:,:,i], \"vis\"),(192,192)), datapoint[2][i]))\n",
    "            joblib.dump(processed_data,\"./lght_pred_data/\"+str(sevir_id)+\".pickle\")"
   ]
  },
  {
   "cell_type": "code",
   "execution_count": 22,
   "metadata": {},
   "outputs": [],
   "source": [
    "# process_datapoint_with_vis_data(data[0])"
   ]
  },
  {
   "cell_type": "code",
   "execution_count": 12,
   "metadata": {},
   "outputs": [
    {
     "name": "stderr",
     "output_type": "stream",
     "text": [
      "100%|██████████| 12739/12739 [1:03:27<00:00,  3.35it/s]\n"
     ]
    }
   ],
   "source": [
    "flattened_data = Parallel(n_jobs=16)(delayed(process_datapoint_with_vis_data)(data[j]) for j in tqdm(range(len(data)))) #doctest: +SKIP\n"
   ]
  },
  {
   "cell_type": "code",
   "execution_count": 8,
   "metadata": {},
   "outputs": [],
   "source": [
    "from random import sample\n",
    "from random import shuffle\n",
    "\n",
    "def get_num_clusters(sevir_id, time_index):\n",
    "    label = joblib.load(\"./lght_pred_data/\"+str(sevir_id)+\".pickle\")[time_index][3]\n",
    "    return len([key for key in label.keys() if type(key) is not str])\n",
    "\n",
    "def get_processed_img(sevir_id, time_index):\n",
    "    return joblib.load(\"./lght_pred_data/\"+str(sevir_id)+\".pickle\")[time_index]\n",
    "\n",
    "def sample_events(data,num_train, num_test, num_no_label_train=26000,num_no_label_test=1000):\n",
    "    possible_samples = []\n",
    "    for id_index in range(len(data)):\n",
    "        for time_index in range(49):\n",
    "            if(data[id_index] is not None):\n",
    "                possible_samples.append((data[id_index][0], time_index))\n",
    "    label_lengths = Parallel(n_jobs=32)(delayed(get_num_clusters)(sevir_id, time_index) for sevir_id, time_index in tqdm(possible_samples))\n",
    "    \n",
    "    samples = sample(possible_samples, num_train+num_test)\n",
    "    dataset = Parallel(n_jobs=32)(delayed(get_processed_img)(sevir_id, time_index) for sevir_id, time_index in tqdm(samples))\n",
    "    joblib.dump(dataset[0:num_train],\"./lght_vis_ir069_dataset_train_\"+str(num_train)+\"_less_no_label.pickle\")\n",
    "    joblib.dump(dataset[num_train:-1],\"./lght_vis_ir069_dataset_test_\"+str(num_test)+\"_.pickle\")"
   ]
  },
  {
   "cell_type": "code",
   "execution_count": null,
   "metadata": {},
   "outputs": [],
   "source": [
    "deg "
   ]
  },
  {
   "cell_type": "code",
   "execution_count": 9,
   "metadata": {},
   "outputs": [
    {
     "name": "stderr",
     "output_type": "stream",
     "text": [
      "100%|██████████| 270000/270000 [55:24<00:00, 81.20it/s]  \n"
     ]
    }
   ],
   "source": [
    "train_samples = 260000\n",
    "test_samples = 10000\n",
    "sample_events(data,train_samples,test_samples)"
   ]
  },
  {
   "cell_type": "code",
   "execution_count": 54,
   "metadata": {},
   "outputs": [
    {
     "data": {
      "text/plain": [
       "['flattened_ir_lght_data.pickle']"
      ]
     },
     "execution_count": 54,
     "metadata": {},
     "output_type": "execute_result"
    }
   ],
   "source": [
    "joblib.dump(flattened_data,\"flattened_ir_vis_lght_data.pickle\")"
   ]
  },
  {
   "cell_type": "code",
   "execution_count": 6,
   "metadata": {},
   "outputs": [],
   "source": [
    "#data = joblib.load(\"flattened_ir_lght_data.pickle\")"
   ]
  },
  {
   "cell_type": "code",
   "execution_count": 3,
   "metadata": {},
   "outputs": [],
   "source": [
    "train_samples = 120000\n",
    "test_samples = 10000"
   ]
  },
  {
   "cell_type": "code",
   "execution_count": 4,
   "metadata": {},
   "outputs": [],
   "source": [
    "from random import sample\n",
    "samples = sample(data, train_samples+test_samples)"
   ]
  },
  {
   "cell_type": "code",
   "execution_count": 24,
   "metadata": {},
   "outputs": [],
   "source": [
    "conv_samples = []\n",
    "for samp in samples:\n",
    "    vis_data = read_data(samp[0], \"vis\")\n",
    "    conv_samples.append((samp[0], convert_to_norm_cmap(samp[1], \"ir069\"), samp[2]))"
   ]
  },
  {
   "cell_type": "code",
   "execution_count": 25,
   "metadata": {},
   "outputs": [
    {
     "data": {
      "text/plain": [
       "(3, 192, 192)"
      ]
     },
     "execution_count": 25,
     "metadata": {},
     "output_type": "execute_result"
    }
   ],
   "source": [
    "conv_samples[0][1].shape"
   ]
  },
  {
   "cell_type": "code",
   "execution_count": 26,
   "metadata": {},
   "outputs": [
    {
     "data": {
      "text/plain": [
       "['ir_lght_data_test.pickle']"
      ]
     },
     "execution_count": 26,
     "metadata": {},
     "output_type": "execute_result"
    }
   ],
   "source": [
    "joblib.dump(conv_samples[0:train_samples],\"ir_lght_data_train.pickle\")\n",
    "joblib.dump(conv_samples[train_samples:-1],\"ir_lght_data_test.pickle\")"
   ]
  },
  {
   "cell_type": "code",
   "execution_count": 12,
   "metadata": {},
   "outputs": [],
   "source": [
    "import joblib\n",
    "data = joblib.load(\"ir_lght_data_test.pickle\")"
   ]
  },
  {
   "cell_type": "code",
   "execution_count": 4,
   "metadata": {},
   "outputs": [],
   "source": [
    "import numpy as np"
   ]
  },
  {
   "cell_type": "code",
   "execution_count": 5,
   "metadata": {},
   "outputs": [],
   "source": [
    "labels = []\n",
    "for point in data:\n",
    "    for obj in point[2].keys():\n",
    "        if(type(obj) is not str):\n",
    "            xmin, xmax, ymin, ymax = point[2][obj][\"min_x\"],point[2][obj][\"max_x\"],point[2][obj][\"min_y\"],point[2][obj][\"max_y\"]\n",
    "            label = np.clip(25*(point[2][obj][\"count\"]//25),0,425)\n",
    "            labels.append(label)"
   ]
  },
  {
   "cell_type": "code",
   "execution_count": 6,
   "metadata": {},
   "outputs": [
    {
     "data": {
      "text/plain": [
       "425"
      ]
     },
     "execution_count": 6,
     "metadata": {},
     "output_type": "execute_result"
    }
   ],
   "source": [
    "max(labels)"
   ]
  },
  {
   "cell_type": "code",
   "execution_count": 9,
   "metadata": {},
   "outputs": [
    {
     "data": {
      "text/plain": [
       "18"
      ]
     },
     "execution_count": 9,
     "metadata": {},
     "output_type": "execute_result"
    }
   ],
   "source": [
    "len(set(labels))"
   ]
  },
  {
   "cell_type": "code",
   "execution_count": 11,
   "metadata": {},
   "outputs": [
    {
     "data": {
      "text/plain": [
       "18"
      ]
     },
     "execution_count": 11,
     "metadata": {},
     "output_type": "execute_result"
    }
   ],
   "source": [
    "len(range(0,450,25))"
   ]
  },
  {
   "cell_type": "code",
   "execution_count": null,
   "metadata": {},
   "outputs": [],
   "source": []
  }
 ],
 "metadata": {
  "kernelspec": {
   "display_name": "Python 3",
   "language": "python",
   "name": "python3"
  },
  "language_info": {
   "codemirror_mode": {
    "name": "ipython",
    "version": 3
   },
   "file_extension": ".py",
   "mimetype": "text/x-python",
   "name": "python",
   "nbconvert_exporter": "python",
   "pygments_lexer": "ipython3",
   "version": "3.6.9"
  }
 },
 "nbformat": 4,
 "nbformat_minor": 4
}
