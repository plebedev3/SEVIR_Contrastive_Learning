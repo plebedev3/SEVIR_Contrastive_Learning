{
 "cells": [
  {
   "cell_type": "code",
   "execution_count": 2,
   "metadata": {},
   "outputs": [],
   "source": [
    "import os\n",
    "os.environ[\"HDF5_USE_FILE_LOCKING\"]='FALSE' "
   ]
  },
  {
   "cell_type": "code",
   "execution_count": null,
   "metadata": {},
   "outputs": [],
   "source": []
  },
  {
   "cell_type": "code",
   "execution_count": 1,
   "metadata": {},
   "outputs": [
    {
     "name": "stdout",
     "output_type": "stream",
     "text": [
      "3.4.9\n",
      "2.10.0\n",
      "3.8.3 | packaged by conda-forge | (default, Jun  1 2020, 17:43:00) \n",
      "[GCC 7.5.0]\n"
     ]
    }
   ],
   "source": [
    "import os\n",
    "import h5py # needs conda/pip install h5py\n",
    "import matplotlib.pyplot as plt\n",
    "import sys\n",
    "from sevir.display import get_cmap\n",
    "import cv2\n",
    "import re\n",
    "import numpy as np\n",
    "from pathlib import Path\n",
    "print(cv2.__version__)\n",
    "print(h5py.__version__)\n",
    "print(sys.version)\n",
    "import matplotlib\n",
    "import glob\n",
    "from tqdm import tqdm"
   ]
  },
  {
   "cell_type": "code",
   "execution_count": 4,
   "metadata": {},
   "outputs": [
    {
     "name": "stdout",
     "output_type": "stream",
     "text": [
      "FALSE\n"
     ]
    }
   ],
   "source": [
    "!echo $HDF5_USE_FILE_LOCKING"
   ]
  },
  {
   "cell_type": "code",
   "execution_count": 3,
   "metadata": {},
   "outputs": [
    {
     "data": {
      "text/plain": [
       "'\\nGeneral configuration for OpenCV 3.4.9 =====================================\\n  Version control:               babaa8b-dirty\\n\\n  Extra modules:\\n    Location (extra):            /home/conda/feedstock_root/build_artifacts/libopencv_1579753496156/work/opencv_contrib/modules\\n    Version control (extra):     babaa8b-dirty\\n\\n  Platform:\\n    Timestamp:                   2020-01-23T04:32:12Z\\n    Host:                        Linux 4.15.0-1066-azure x86_64\\n    CMake:                       3.16.2\\n    CMake generator:             Ninja\\n    CMake build tool:            /home/conda/feedstock_root/build_artifacts/libopencv_1579753496156/_build_env/bin/ninja\\n    Configuration:               Release\\n\\n  CPU/HW features:\\n    Baseline:                    SSE SSE2 SSE3\\n      requested:                 SSE3\\n    Dispatched code generation:  SSE4_1 SSE4_2 FP16 AVX AVX2 AVX512_SKX\\n      requested:                 SSE4_1 SSE4_2 AVX FP16 AVX2 AVX512_SKX\\n      SSE4_1 (13 files):         + SSSE3 SSE4_1\\n      SSE4_2 (1 files):          + SSSE3 SSE4_1 POPCNT SSE4_2\\n      FP16 (0 files):            + SSSE3 SSE4_1 POPCNT SSE4_2 FP16 AVX\\n      AVX (5 files):             + SSSE3 SSE4_1 POPCNT SSE4_2 AVX\\n      AVX2 (26 files):           + SSSE3 SSE4_1 POPCNT SSE4_2 FP16 FMA3 AVX AVX2\\n      AVX512_SKX (3 files):      + SSSE3 SSE4_1 POPCNT SSE4_2 FP16 FMA3 AVX AVX2 AVX_512F AVX512_COMMON AVX512_SKX\\n\\n  C/C++:\\n    Built as dynamic libs?:      YES\\n    C++11:                       YES\\n    C++ Compiler:                /home/conda/feedstock_root/build_artifacts/libopencv_1579753496156/_build_env/bin/x86_64-conda_cos6-linux-gnu-c++  (ver 7.3.0)\\n    C++ flags (Release):         -fvisibility-inlines-hidden -std=c++11 -fmessage-length=0 -march=nocona -mtune=haswell -ftree-vectorize -fPIC -fstack-protector-strong -fno-plt -O2 -ffunction-sections -pipe -isystem /home/gridsan/lebedevp/.conda/envs/rainymotion/include -fdebug-prefix-map=/home/conda/feedstock_root/build_artifacts/libopencv_1579753496156/work=/usr/local/src/conda/libopencv-3.4.9 -fdebug-prefix-map=/home/gridsan/lebedevp/.conda/envs/rainymotion=/usr/local/src/conda-prefix -D__STDC_CONSTANT_MACROS   -fsigned-char -W -Wall -Werror=return-type -Werror=non-virtual-dtor -Werror=address -Werror=sequence-point -Wformat -Werror=format-security -Wmissing-declarations -Wundef -Winit-self -Wpointer-arith -Wshadow -Wsign-promo -Wuninitialized -Winit-self -Wsuggest-override -Wno-delete-non-virtual-dtor -Wno-comment -Wimplicit-fallthrough=3 -Wno-strict-overflow -fdiagnostics-show-option -Wno-long-long -pthread -fomit-frame-pointer -ffunction-sections -fdata-sections  -msse -msse2 -msse3 -fopenmp -O3 -DNDEBUG  -DNDEBUG\\n    C++ flags (Debug):           -fvisibility-inlines-hidden -std=c++11 -fmessage-length=0 -march=nocona -mtune=haswell -ftree-vectorize -fPIC -fstack-protector-strong -fno-plt -O2 -ffunction-sections -pipe -isystem /home/gridsan/lebedevp/.conda/envs/rainymotion/include -fdebug-prefix-map=/home/conda/feedstock_root/build_artifacts/libopencv_1579753496156/work=/usr/local/src/conda/libopencv-3.4.9 -fdebug-prefix-map=/home/gridsan/lebedevp/.conda/envs/rainymotion=/usr/local/src/conda-prefix -D__STDC_CONSTANT_MACROS   -fsigned-char -W -Wall -Werror=return-type -Werror=non-virtual-dtor -Werror=address -Werror=sequence-point -Wformat -Werror=format-security -Wmissing-declarations -Wundef -Winit-self -Wpointer-arith -Wshadow -Wsign-promo -Wuninitialized -Winit-self -Wsuggest-override -Wno-delete-non-virtual-dtor -Wno-comment -Wimplicit-fallthrough=3 -Wno-strict-overflow -fdiagnostics-show-option -Wno-long-long -pthread -fomit-frame-pointer -ffunction-sections -fdata-sections  -msse -msse2 -msse3 -fopenmp -g  -DDEBUG -D_DEBUG\\n    C Compiler:                  /home/conda/feedstock_root/build_artifacts/libopencv_1579753496156/_build_env/bin/x86_64-conda_cos6-linux-gnu-cc\\n    C flags (Release):           -march=nocona -mtune=haswell -ftree-vectorize -fPIC -fstack-protector-strong -fno-plt -O2 -ffunction-sections -pipe -isystem /home/gridsan/lebedevp/.conda/envs/rainymotion/include -fdebug-prefix-map=/home/conda/feedstock_root/build_artifacts/libopencv_1579753496156/work=/usr/local/src/conda/libopencv-3.4.9 -fdebug-prefix-map=/home/gridsan/lebedevp/.conda/envs/rainymotion=/usr/local/src/conda-prefix   -fsigned-char -W -Wall -Werror=return-type -Werror=non-virtual-dtor -Werror=address -Werror=sequence-point -Wformat -Werror=format-security -Wmissing-declarations -Wmissing-prototypes -Wstrict-prototypes -Wundef -Winit-self -Wpointer-arith -Wshadow -Wuninitialized -Winit-self -Wno-comment -Wimplicit-fallthrough=3 -Wno-strict-overflow -fdiagnostics-show-option -Wno-long-long -pthread -fomit-frame-pointer -ffunction-sections -fdata-sections  -msse -msse2 -msse3 -fopenmp -O3 -DNDEBUG  -DNDEBUG\\n    C flags (Debug):             -march=nocona -mtune=haswell -ftree-vectorize -fPIC -fstack-protector-strong -fno-plt -O2 -ffunction-sections -pipe -isystem /home/gridsan/lebedevp/.conda/envs/rainymotion/include -fdebug-prefix-map=/home/conda/feedstock_root/build_artifacts/libopencv_1579753496156/work=/usr/local/src/conda/libopencv-3.4.9 -fdebug-prefix-map=/home/gridsan/lebedevp/.conda/envs/rainymotion=/usr/local/src/conda-prefix   -fsigned-char -W -Wall -Werror=return-type -Werror=non-virtual-dtor -Werror=address -Werror=sequence-point -Wformat -Werror=format-security -Wmissing-declarations -Wmissing-prototypes -Wstrict-prototypes -Wundef -Winit-self -Wpointer-arith -Wshadow -Wuninitialized -Winit-self -Wno-comment -Wimplicit-fallthrough=3 -Wno-strict-overflow -fdiagnostics-show-option -Wno-long-long -pthread -fomit-frame-pointer -ffunction-sections -fdata-sections  -msse -msse2 -msse3 -fopenmp -g  -DDEBUG -D_DEBUG\\n    Linker flags (Release):      -Wl,-O2 -Wl,--sort-common -Wl,--as-needed -Wl,-z,relro -Wl,-z,now -Wl,--disable-new-dtags -Wl,--gc-sections -Wl,-rpath,/home/gridsan/lebedevp/.conda/envs/rainymotion/lib -Wl,-rpath-link,/home/gridsan/lebedevp/.conda/envs/rainymotion/lib -L/home/gridsan/lebedevp/.conda/envs/rainymotion/lib -Wl,-rpath-link,/home/gridsan/lebedevp/.conda/envs/rainymotion/lib  -Wl,--gc-sections  \\n    Linker flags (Debug):        -Wl,-O2 -Wl,--sort-common -Wl,--as-needed -Wl,-z,relro -Wl,-z,now -Wl,--disable-new-dtags -Wl,--gc-sections -Wl,-rpath,/home/gridsan/lebedevp/.conda/envs/rainymotion/lib -Wl,-rpath-link,/home/gridsan/lebedevp/.conda/envs/rainymotion/lib -L/home/gridsan/lebedevp/.conda/envs/rainymotion/lib -Wl,-rpath-link,/home/gridsan/lebedevp/.conda/envs/rainymotion/lib  -Wl,--gc-sections  \\n    ccache:                      NO\\n    Precompiled headers:         NO\\n    Extra dependencies:          dl m pthread rt\\n    3rdparty dependencies:\\n\\n  OpenCV modules:\\n    To be built:                 aruco bgsegm bioinspired calib3d ccalib core cvv datasets dnn dnn_objdetect dpm face features2d flann freetype fuzzy hdf hfs highgui img_hash imgcodecs imgproc line_descriptor ml objdetect optflow phase_unwrapping photo plot python3 reg rgbd saliency shape stereo stitching structured_light superres surface_matching text tracking video videoio videostab xfeatures2d ximgproc xobjdetect xphoto\\n    Disabled:                    world\\n    Disabled by dependency:      -\\n    Unavailable:                 cnn_3dobj cudaarithm cudabgsegm cudacodec cudafeatures2d cudafilters cudaimgproc cudalegacy cudaobjdetect cudaoptflow cudastereo cudawarping cudev java js matlab ovis python2 sfm ts viz\\n    Applications:                apps\\n    Documentation:               NO\\n    Non-free algorithms:         NO\\n\\n  GUI: \\n    QT:                          YES (ver 5.12.1)\\n      QT OpenGL support:         NO\\n\\n  Media I/O: \\n    ZLib:                        /home/gridsan/lebedevp/.conda/envs/rainymotion/lib/libz.so (ver 1.2.11)\\n    JPEG:                        /home/gridsan/lebedevp/.conda/envs/rainymotion/lib/libjpeg.so (ver 90)\\n    WEBP:                        /home/gridsan/lebedevp/.conda/envs/rainymotion/lib/libwebp.so (ver encoder: 0x020e)\\n    PNG:                         /home/gridsan/lebedevp/.conda/envs/rainymotion/lib/libpng.so (ver 1.6.37)\\n    TIFF:                        /home/gridsan/lebedevp/.conda/envs/rainymotion/lib/libtiff.so (ver 42 / 4.1.0)\\n    JPEG 2000:                   /home/gridsan/lebedevp/.conda/envs/rainymotion/lib/libjasper.so (ver 1.900.1)\\n    OpenEXR:                     build (ver 2.3.0)\\n    HDR:                         YES\\n    SUNRASTER:                   YES\\n    PXM:                         YES\\n\\n  Video I/O:\\n    FFMPEG:                      YES\\n      avcodec:                   YES (ver 58.35.100)\\n      avformat:                  YES (ver 58.20.100)\\n      avutil:                    YES (ver 56.22.100)\\n      swscale:                   YES (ver 5.3.100)\\n      avresample:                YES (ver 4.0.0)\\n    libv4l/libv4l2:              NO\\n    v4l/v4l2:                    linux/videodev.h linux/videodev2.h\\n\\n  Parallel framework:            OpenMP\\n\\n  Trace:                         YES (with Intel ITT)\\n\\n  Other third-party libraries:\\n    Intel IPP:                   2019.0.0 Gold [2019.0.0]\\n           at:                   /home/conda/feedstock_root/build_artifacts/libopencv_1579753496156/work/build/3rdparty/ippicv/ippicv_lnx/icv\\n    Intel IPP IW:                sources (2019.0.0)\\n              at:                /home/conda/feedstock_root/build_artifacts/libopencv_1579753496156/work/build/3rdparty/ippicv/ippicv_lnx/iw\\n    Lapack:                      YES (lapack cblas)\\n    Eigen:                       YES (ver 3.3.7)\\n    Custom HAL:                  NO\\n    Protobuf:                    build (3.5.1)\\n\\n  Python 3:\\n    Interpreter:                 /home/gridsan/lebedevp/.conda/envs/rainymotion/bin/python (ver 3.8.1)\\n    Libraries:                   /home/gridsan/lebedevp/.conda/envs/rainymotion/lib/libpython3.8.so (ver 3.8.1)\\n    numpy:                       /home/gridsan/lebedevp/.conda/envs/rainymotion/lib/python3.8/site-packages/numpy/core/include (ver 1.14.6)\\n    install path:                /home/gridsan/lebedevp/.conda/envs/rainymotion/lib/python3.8/site-packages\\n\\n  Python (for build):            /home/gridsan/lebedevp/.conda/envs/rainymotion/bin/python\\n\\n  Java:                          \\n    ant:                         NO\\n    JNI:                         NO\\n    Java wrappers:               NO\\n    Java tests:                  NO\\n\\n  Install to:                    /home/gridsan/lebedevp/.conda/envs/rainymotion\\n-----------------------------------------------------------------\\n\\n'"
      ]
     },
     "metadata": {},
     "output_type": "display_data"
    }
   ],
   "source": [
    "print(cv2.getBuildInformation())\n"
   ]
  },
  {
   "cell_type": "code",
   "execution_count": 5,
   "metadata": {},
   "outputs": [],
   "source": [
    "OPTICAL_FLOW_CALC_METHOD = cv2.DualTVL1OpticalFlow_create()"
   ]
  },
  {
   "cell_type": "code",
   "execution_count": 6,
   "metadata": {},
   "outputs": [],
   "source": [
    "def get_file_index_len(sevir_h5_file_path):\n",
    "    print(sevir_h5_file_path)\n",
    "    print(sevir_dtype)\n",
    "    l = -1\n",
    "    with h5py.File(sevir_h5_file_path,'r') as hf:\n",
    "        l = len(hf[\"id\"])\n",
    "        print(l)\n",
    "    return l"
   ]
  },
  {
   "cell_type": "code",
   "execution_count": 7,
   "metadata": {},
   "outputs": [],
   "source": [
    "def get_data_h5_event(sevir_h5_file_path, file_index, sevir_dtype):\n",
    "    print(sevir_h5_file_path)\n",
    "    print(sevir_dtype)\n",
    "    curr_id = None\n",
    "    curr_data = None\n",
    "    with h5py.File(sevir_h5_file_path,'r') as hf:\n",
    "        print(\"len: \" + str(len(hf[sevir_dtype])))\n",
    "        curr_id = hf['id'][file_index]\n",
    "        print(len(hf[sevir_dtype]))\n",
    "        curr_data  = hf[sevir_dtype][file_index]\n",
    "    #print(curr_data)\n",
    "    return curr_id, curr_data"
   ]
  },
  {
   "cell_type": "code",
   "execution_count": 8,
   "metadata": {},
   "outputs": [],
   "source": [
    "def convert_to_norm_cmap(sevir_np_data, sevir_dtype):\n",
    "    #print(sevir_np_data[:,:,0])\n",
    "    cmap,norm,vmin,vmax = get_cmap(sevir_dtype)\n",
    "    sm = matplotlib.cm.ScalarMappable(cmap=cmap,norm=norm)\n",
    "#     print(cmap)\n",
    "#     print(norm)\n",
    "#     print(sevir_np_data)\n",
    "    sevir_np_data_copy = []\n",
    "    for i in range(sevir_np_data.shape[2]):\n",
    "        sevir_np_data_copy.append(sm.to_rgba(sevir_np_data[:,:,i]))\n",
    "    return np.array(sevir_np_data_copy).astype(np.float32)"
   ]
  },
  {
   "cell_type": "code",
   "execution_count": 9,
   "metadata": {},
   "outputs": [],
   "source": [
    "def convert_seq_to_open_cv_gray_scale(sevir_np_data):\n",
    "    #print(sevir_np_data.shape)\n",
    "    sevir_np_data_copy = []\n",
    "    #print(sevir_np_data_copy.shape)\n",
    "    for i in range(len(sevir_np_data)):\n",
    "        #print(cv2.cvtColor(sevir_np_data[:,:,i], cv2.COLOR_RGBA2GRAY).shape)\n",
    "        sevir_np_data_copy.append(cv2.cvtColor(sevir_np_data[i], cv2.COLOR_RGBA2GRAY))\n",
    "    return np.array(sevir_np_data_copy).astype(\"float32\")"
   ]
  },
  {
   "cell_type": "code",
   "execution_count": 10,
   "metadata": {},
   "outputs": [],
   "source": [
    "def calc_optical_flow(sevir_np_data):\n",
    "    if(len(sevir_np_data.shape) > 3):\n",
    "        # assume its RGBA\n",
    "        sevir_np_data = convert_seq_to_open_cv_gray_scale(sevir_np_data)\n",
    "    flows = []\n",
    "    for index in range(len(sevir_np_data)-1):\n",
    "        #flow = OPTICAL_FLOW_CALC_METHOD.calc(sevir_np_data[:,:,index],sevir_np_data[:,:,index+1], None)\n",
    "        flow = cv2.calcOpticalFlowFarneback(sevir_np_data[index],sevir_np_data[index+1], None, 0.5, 3, 15, 3, 5, 1.2, 0)\n",
    "        flows.append(flow)\n",
    "    return np.array(flows)"
   ]
  },
  {
   "cell_type": "code",
   "execution_count": 11,
   "metadata": {},
   "outputs": [],
   "source": [
    "def process_data_to_optical_flows_in_mem(sevir_dtype,  sevir_data_path, use_cmap_norms=True):\n",
    "    h5_files = []\n",
    "    event_ids = [] # Used if needed in future purposes\n",
    "    data_path = os.path.join(Path(sevir_data_path), sevir_dtype)\n",
    "    year_dirs = os.listdir(data_path)\n",
    "    optical_flows = []\n",
    "    for year_dir in year_dirs:\n",
    "        year_path = os.path.join(data_path,year_dir)\n",
    "        h5_file_names = os.listdir(year_path)\n",
    "        for h5_file_name in h5_file_names:\n",
    "            h5_files.append(os.path.join(year_path,h5_file_name))\n",
    "    for h5_file in h5_files:\n",
    "        file_index_len = get_file_index_len(h5_file)\n",
    "        for file_index in range(file_index_len):\n",
    "            curr_id, curr_data = get_data_h5_event(h5_file,file_index,sevir_dtype)\n",
    "            #print(curr_data.shape)\n",
    "            event_ids.append(curr_id)\n",
    "            if(use_cmap_norms):\n",
    "                curr_data = convert_to_norm_cmap(curr_data,sevir_dtype)\n",
    "            optical_flow_data = calc_optical_flow(curr_data)\n",
    "            optical_flows.append(optical_flow_data)\n",
    "    return np.array(optical_flows)"
   ]
  },
  {
   "cell_type": "code",
   "execution_count": 12,
   "metadata": {},
   "outputs": [],
   "source": [
    "sevir_data_path = \"/home/gridsan/lebedevp/sevir_data_copy/data/\"\n",
    "file_index_splits = 500\n",
    "sevir_dtype = \"ir069\"\n",
    "data_dump_path = \"./SEVIR_IR069_NORMED_CMAPS/\""
   ]
  },
  {
   "cell_type": "code",
   "execution_count": 13,
   "metadata": {},
   "outputs": [],
   "source": [
    "dtype_path = os.path.join(sevir_data_path, sevir_dtype)\n",
    "year_file_paths = glob.glob(dtype_path+\"/*\")\n",
    "total_h5_paths = []\n",
    "for year_file_path in year_file_paths:\n",
    "    total_h5_paths += glob.glob(year_file_path+\"/*\")"
   ]
  },
  {
   "cell_type": "code",
   "execution_count": 14,
   "metadata": {},
   "outputs": [],
   "source": [
    "def convert_sevir_h5_to_normed_grayCV(findex, h5_path, sevir_dtype):\n",
    "    event_id, sevir_data = get_data_h5_event(h5_path, findex, sevir_dtype)\n",
    "    sevir_data_color = convert_to_norm_cmap(sevir_data,sevir_dtype)\n",
    "    return event_id, convert_seq_to_open_cv_gray_scale(sevir_data_color)"
   ]
  },
  {
   "cell_type": "code",
   "execution_count": 15,
   "metadata": {},
   "outputs": [
    {
     "name": "stdout",
     "output_type": "stream",
     "text": [
      "/home/gridsan/lebedevp/sevir_data_copy/data/ir069/2018/SEVIR_IR069_STORMEVENTS_2018_0701_1231.h5\n",
      "ir069\n",
      "904\n",
      "/home/gridsan/lebedevp/sevir_data_copy/data/ir069/2018/SEVIR_IR069_RANDOMEVENTS_2018_0901_1231.h5\n",
      "ir069\n",
      "2172\n",
      "/home/gridsan/lebedevp/sevir_data_copy/data/ir069/2018/SEVIR_IR069_STORMEVENTS_2018_0101_0630.h5\n",
      "ir069\n",
      "833\n",
      "/home/gridsan/lebedevp/sevir_data_copy/data/ir069/2018/SEVIR_IR069_RANDOMEVENTS_2018_0101_0430.h5\n",
      "ir069\n",
      "545\n",
      "/home/gridsan/lebedevp/sevir_data_copy/data/ir069/2018/SEVIR_IR069_RANDOMEVENTS_2018_0501_0831.h5\n",
      "ir069\n",
      "2168\n",
      "/home/gridsan/lebedevp/sevir_data_copy/data/ir069/2019/SEVIR_IR069_RANDOMEVENTS_2019_0101_0430.h5\n",
      "ir069\n",
      "2016\n",
      "/home/gridsan/lebedevp/sevir_data_copy/data/ir069/2019/SEVIR_IR069_STORMEVENTS_2019_0101_0630.h5\n",
      "ir069\n",
      "729\n",
      "/home/gridsan/lebedevp/sevir_data_copy/data/ir069/2019/SEVIR_IR069_STORMEVENTS_2019_0701_1231.h5\n",
      "ir069\n",
      "692\n",
      "/home/gridsan/lebedevp/sevir_data_copy/data/ir069/2019/SEVIR_IR069_RANDOMEVENTS_2019_0501_0831.h5\n",
      "ir069\n",
      "1710\n",
      "/home/gridsan/lebedevp/sevir_data_copy/data/ir069/2019/SEVIR_IR069_RANDOMEVENTS_2019_0901_1231.h5\n",
      "ir069\n",
      "1783\n"
     ]
    },
    {
     "data": {
      "text/plain": [
       "[904, 2172, 833, 545, 2168, 2016, 729, 692, 1710, 1783]"
      ]
     },
     "execution_count": 15,
     "metadata": {},
     "output_type": "execute_result"
    }
   ],
   "source": [
    "[get_file_index_len(h5_path) for h5_path in total_h5_paths]"
   ]
  },
  {
   "cell_type": "code",
   "execution_count": 16,
   "metadata": {},
   "outputs": [],
   "source": [
    "from joblib import Parallel, delayed\n",
    "import pickle"
   ]
  },
  {
   "cell_type": "code",
   "execution_count": 17,
   "metadata": {},
   "outputs": [
    {
     "name": "stderr",
     "output_type": "stream",
     "text": [
      "  0%|          | 0/500 [00:00<?, ?it/s]"
     ]
    },
    {
     "name": "stdout",
     "output_type": "stream",
     "text": [
      "/home/gridsan/lebedevp/sevir_data_copy/data/ir069/2018/SEVIR_IR069_STORMEVENTS_2018_0701_1231.h5\n",
      "ir069\n",
      "904\n"
     ]
    },
    {
     "name": "stderr",
     "output_type": "stream",
     "text": [
      "100%|██████████| 500/500 [00:07<00:00, 66.38it/s]\n",
      "100%|██████████| 404/404 [00:03<00:00, 107.47it/s]\n",
      "100%|██████████| 96/96 [00:00<00:00, 764.95it/s]"
     ]
    },
    {
     "name": "stdout",
     "output_type": "stream",
     "text": [
      "/home/gridsan/lebedevp/sevir_data_copy/data/ir069/2018/SEVIR_IR069_RANDOMEVENTS_2018_0901_1231.h5\n",
      "ir069\n",
      "2172\n"
     ]
    },
    {
     "name": "stderr",
     "output_type": "stream",
     "text": [
      "\n",
      " 16%|█▌        | 80/500 [00:00<00:00, 687.90it/s]"
     ]
    },
    {
     "name": "stdout",
     "output_type": "stream",
     "text": [
      "Getting data range from 96 to 596\n"
     ]
    },
    {
     "name": "stderr",
     "output_type": "stream",
     "text": [
      "100%|██████████| 500/500 [00:03<00:00, 138.68it/s]\n",
      " 16%|█▌        | 80/500 [00:00<00:00, 538.12it/s]"
     ]
    },
    {
     "name": "stdout",
     "output_type": "stream",
     "text": [
      "Getting data range from 596 to 1096\n"
     ]
    },
    {
     "name": "stderr",
     "output_type": "stream",
     "text": [
      "100%|██████████| 500/500 [00:03<00:00, 136.33it/s]\n",
      "  0%|          | 0/500 [00:00<?, ?it/s]"
     ]
    },
    {
     "name": "stdout",
     "output_type": "stream",
     "text": [
      "Getting data range from 1096 to 1596\n"
     ]
    },
    {
     "name": "stderr",
     "output_type": "stream",
     "text": [
      "100%|██████████| 500/500 [00:03<00:00, 134.97it/s]\n",
      " 16%|█▌        | 80/500 [00:00<00:01, 412.40it/s]"
     ]
    },
    {
     "name": "stdout",
     "output_type": "stream",
     "text": [
      "Getting data range from 1596 to 2096\n"
     ]
    },
    {
     "name": "stderr",
     "output_type": "stream",
     "text": [
      "100%|██████████| 500/500 [00:03<00:00, 125.26it/s]\n",
      "100%|██████████| 76/76 [00:00<00:00, 19389.73it/s]\n",
      " 19%|█▉        | 80/424 [00:00<00:00, 459.93it/s]"
     ]
    },
    {
     "name": "stdout",
     "output_type": "stream",
     "text": [
      "/home/gridsan/lebedevp/sevir_data_copy/data/ir069/2018/SEVIR_IR069_STORMEVENTS_2018_0101_0630.h5\n",
      "ir069\n",
      "833\n"
     ]
    },
    {
     "name": "stderr",
     "output_type": "stream",
     "text": [
      "100%|██████████| 424/424 [00:02<00:00, 148.23it/s]\n",
      "100%|██████████| 409/409 [00:02<00:00, 141.83it/s]\n",
      "100%|██████████| 91/91 [00:00<00:00, 545.31it/s]"
     ]
    },
    {
     "name": "stdout",
     "output_type": "stream",
     "text": [
      "/home/gridsan/lebedevp/sevir_data_copy/data/ir069/2018/SEVIR_IR069_RANDOMEVENTS_2018_0101_0430.h5\n",
      "ir069\n",
      "545\n"
     ]
    },
    {
     "name": "stderr",
     "output_type": "stream",
     "text": [
      "\n",
      "100%|██████████| 454/454 [00:02<00:00, 154.91it/s]\n",
      "100%|██████████| 46/46 [00:00<00:00, 9576.51it/s]"
     ]
    },
    {
     "name": "stdout",
     "output_type": "stream",
     "text": [
      "/home/gridsan/lebedevp/sevir_data_copy/data/ir069/2018/SEVIR_IR069_RANDOMEVENTS_2018_0501_0831.h5\n",
      "ir069\n",
      "2168\n"
     ]
    },
    {
     "name": "stderr",
     "output_type": "stream",
     "text": [
      "\n",
      " 16%|█▌        | 80/500 [00:00<00:00, 689.95it/s]"
     ]
    },
    {
     "name": "stdout",
     "output_type": "stream",
     "text": [
      "Getting data range from 46 to 546\n"
     ]
    },
    {
     "name": "stderr",
     "output_type": "stream",
     "text": [
      "100%|██████████| 500/500 [00:03<00:00, 130.55it/s]\n",
      "  0%|          | 0/500 [00:00<?, ?it/s]"
     ]
    },
    {
     "name": "stdout",
     "output_type": "stream",
     "text": [
      "Getting data range from 546 to 1046\n"
     ]
    },
    {
     "name": "stderr",
     "output_type": "stream",
     "text": [
      "100%|██████████| 500/500 [00:04<00:00, 111.30it/s]\n",
      " 16%|█▌        | 80/500 [00:00<00:00, 681.66it/s]"
     ]
    },
    {
     "name": "stdout",
     "output_type": "stream",
     "text": [
      "Getting data range from 1046 to 1546\n"
     ]
    },
    {
     "name": "stderr",
     "output_type": "stream",
     "text": [
      "100%|██████████| 500/500 [00:03<00:00, 137.01it/s]\n",
      "  0%|          | 0/500 [00:00<?, ?it/s]"
     ]
    },
    {
     "name": "stdout",
     "output_type": "stream",
     "text": [
      "Getting data range from 1546 to 2046\n"
     ]
    },
    {
     "name": "stderr",
     "output_type": "stream",
     "text": [
      "100%|██████████| 500/500 [00:03<00:00, 131.20it/s]\n",
      "100%|██████████| 122/122 [00:00<00:00, 665.49it/s]\n",
      " 21%|██        | 80/378 [00:00<00:00, 661.33it/s]"
     ]
    },
    {
     "name": "stdout",
     "output_type": "stream",
     "text": [
      "/home/gridsan/lebedevp/sevir_data_copy/data/ir069/2019/SEVIR_IR069_RANDOMEVENTS_2019_0101_0430.h5\n",
      "ir069\n",
      "2016\n"
     ]
    },
    {
     "name": "stderr",
     "output_type": "stream",
     "text": [
      "100%|██████████| 378/378 [00:02<00:00, 182.93it/s]\n",
      " 16%|█▌        | 80/500 [00:00<00:00, 451.12it/s]"
     ]
    },
    {
     "name": "stdout",
     "output_type": "stream",
     "text": [
      "Getting data range from 378 to 878\n"
     ]
    },
    {
     "name": "stderr",
     "output_type": "stream",
     "text": [
      "100%|██████████| 500/500 [00:03<00:00, 137.16it/s]\n",
      " 16%|█▌        | 80/500 [00:00<00:00, 529.57it/s]"
     ]
    },
    {
     "name": "stdout",
     "output_type": "stream",
     "text": [
      "Getting data range from 878 to 1378\n"
     ]
    },
    {
     "name": "stderr",
     "output_type": "stream",
     "text": [
      "100%|██████████| 500/500 [00:03<00:00, 131.74it/s]\n",
      " 16%|█▌        | 80/500 [00:00<00:00, 569.35it/s]"
     ]
    },
    {
     "name": "stdout",
     "output_type": "stream",
     "text": [
      "Getting data range from 1378 to 1878\n"
     ]
    },
    {
     "name": "stderr",
     "output_type": "stream",
     "text": [
      "100%|██████████| 500/500 [00:03<00:00, 135.45it/s]\n",
      "100%|██████████| 138/138 [00:00<00:00, 925.19it/s]\n",
      " 22%|██▏       | 80/362 [00:00<00:00, 688.34it/s]"
     ]
    },
    {
     "name": "stdout",
     "output_type": "stream",
     "text": [
      "/home/gridsan/lebedevp/sevir_data_copy/data/ir069/2019/SEVIR_IR069_STORMEVENTS_2019_0101_0630.h5\n",
      "ir069\n",
      "729\n"
     ]
    },
    {
     "name": "stderr",
     "output_type": "stream",
     "text": [
      "100%|██████████| 362/362 [00:02<00:00, 180.76it/s]\n",
      "100%|██████████| 367/367 [00:02<00:00, 179.32it/s]\n",
      "  0%|          | 0/133 [00:00<?, ?it/s]"
     ]
    },
    {
     "name": "stdout",
     "output_type": "stream",
     "text": [
      "/home/gridsan/lebedevp/sevir_data_copy/data/ir069/2019/SEVIR_IR069_STORMEVENTS_2019_0701_1231.h5\n",
      "ir069\n",
      "692\n"
     ]
    },
    {
     "name": "stderr",
     "output_type": "stream",
     "text": [
      "100%|██████████| 133/133 [00:00<00:00, 179.73it/s]\n",
      " 16%|█▌        | 80/500 [00:00<00:00, 577.03it/s]"
     ]
    },
    {
     "name": "stdout",
     "output_type": "stream",
     "text": [
      "Getting data range from 133 to 633\n"
     ]
    },
    {
     "name": "stderr",
     "output_type": "stream",
     "text": [
      "100%|██████████| 500/500 [00:03<00:00, 137.72it/s]\n",
      "100%|██████████| 59/59 [00:00<00:00, 26718.20it/s]\n",
      "  0%|          | 0/441 [00:00<?, ?it/s]"
     ]
    },
    {
     "name": "stdout",
     "output_type": "stream",
     "text": [
      "/home/gridsan/lebedevp/sevir_data_copy/data/ir069/2019/SEVIR_IR069_RANDOMEVENTS_2019_0501_0831.h5\n",
      "ir069\n",
      "1710\n"
     ]
    },
    {
     "name": "stderr",
     "output_type": "stream",
     "text": [
      "100%|██████████| 441/441 [00:04<00:00, 104.46it/s]\n",
      " 16%|█▌        | 80/500 [00:00<00:00, 505.81it/s]"
     ]
    },
    {
     "name": "stdout",
     "output_type": "stream",
     "text": [
      "Getting data range from 441 to 941\n"
     ]
    },
    {
     "name": "stderr",
     "output_type": "stream",
     "text": [
      "100%|██████████| 500/500 [00:03<00:00, 133.53it/s]\n",
      " 16%|█▌        | 80/500 [00:00<00:00, 682.61it/s]"
     ]
    },
    {
     "name": "stdout",
     "output_type": "stream",
     "text": [
      "Getting data range from 941 to 1441\n"
     ]
    },
    {
     "name": "stderr",
     "output_type": "stream",
     "text": [
      "100%|██████████| 500/500 [00:03<00:00, 136.22it/s]\n",
      "100%|██████████| 269/269 [00:01<00:00, 217.68it/s]\n",
      "  0%|          | 0/231 [00:00<?, ?it/s]"
     ]
    },
    {
     "name": "stdout",
     "output_type": "stream",
     "text": [
      "/home/gridsan/lebedevp/sevir_data_copy/data/ir069/2019/SEVIR_IR069_RANDOMEVENTS_2019_0901_1231.h5\n",
      "ir069\n",
      "1783\n"
     ]
    },
    {
     "name": "stderr",
     "output_type": "stream",
     "text": [
      "100%|██████████| 231/231 [00:01<00:00, 136.61it/s]\n",
      " 16%|█▌        | 80/500 [00:00<00:00, 569.12it/s]"
     ]
    },
    {
     "name": "stdout",
     "output_type": "stream",
     "text": [
      "Getting data range from 231 to 731\n"
     ]
    },
    {
     "name": "stderr",
     "output_type": "stream",
     "text": [
      "100%|██████████| 500/500 [00:03<00:00, 134.56it/s]\n",
      " 16%|█▌        | 80/500 [00:00<00:00, 632.29it/s]"
     ]
    },
    {
     "name": "stdout",
     "output_type": "stream",
     "text": [
      "Getting data range from 731 to 1231\n"
     ]
    },
    {
     "name": "stderr",
     "output_type": "stream",
     "text": [
      "100%|██████████| 500/500 [00:03<00:00, 131.29it/s]\n",
      " 16%|█▌        | 80/500 [00:00<00:00, 669.66it/s]"
     ]
    },
    {
     "name": "stdout",
     "output_type": "stream",
     "text": [
      "Getting data range from 1231 to 1731\n"
     ]
    },
    {
     "name": "stderr",
     "output_type": "stream",
     "text": [
      "100%|██████████| 500/500 [00:03<00:00, 132.05it/s]\n",
      "100%|██████████| 52/52 [00:00<00:00, 10807.38it/s]\n"
     ]
    }
   ],
   "source": [
    "splits_so_far = 0\n",
    "sevir_batched_gray_normed_data = []\n",
    "for h5_path in total_h5_paths:\n",
    "    curr_h5_start_index = 0\n",
    "    f_index_length = get_file_index_len(h5_path)\n",
    "    num_data_to_fill = file_index_splits-len(sevir_batched_gray_normed_data)\n",
    "    if(num_data_to_fill == 0):\n",
    "        dump_f_name = \"gray_CV_data_split_\"+str(splits_so_far) + \".pickle\"\n",
    "        split_dump_path = os.path.join(data_dump_path, dump_f_name)\n",
    "        with open(split_dump_path, \"wb\") as pickle_file:\n",
    "            pickle.dump(sevir_batched_gray_normed_data, pickle_file)\n",
    "        sevir_batched_gray_normed_data =  []\n",
    "        splits_so_far += 1\n",
    "    if(num_data_to_fill < f_index_length):\n",
    "        f_indexes = range(curr_h5_start_index, curr_h5_start_index+num_data_to_fill)\n",
    "        sevir_batched_gray_normed_data+= Parallel(n_jobs=40)(delayed(convert_sevir_h5_to_normed_grayCV)(f_index, h5_path, sevir_dtype) for f_index in tqdm(f_indexes))\n",
    "        dump_f_name = \"gray_CV_data_split_\"+str(splits_so_far) + \".pickle\"\n",
    "        split_dump_path = os.path.join(data_dump_path, dump_f_name)\n",
    "        with open(split_dump_path, \"wb\") as pickle_file:\n",
    "            pickle.dump(sevir_batched_gray_normed_data, pickle_file)\n",
    "        sevir_batched_gray_normed_data =  []\n",
    "        splits_so_far += 1\n",
    "        curr_h5_start_index += num_data_to_fill\n",
    "        num_data_to_fill = file_index_splits-len(sevir_batched_gray_normed_data)\n",
    "    for s_index in range(curr_h5_start_index,f_index_length-file_index_splits, file_index_splits):\n",
    "        print(\"Getting data range from \" + str(s_index) + \" to \" + str(s_index+file_index_splits))\n",
    "        f_indexes = range(s_index, s_index+file_index_splits)\n",
    "        sevir_batched_gray_normed_data+= Parallel(n_jobs=40)(delayed(convert_sevir_h5_to_normed_grayCV)(f_index, h5_path, sevir_dtype) for f_index in tqdm(f_indexes))\n",
    "        dump_f_name = \"gray_CV_data_split_\"+str(splits_so_far) + \".pickle\"\n",
    "        split_dump_path = os.path.join(data_dump_path, dump_f_name)\n",
    "        with open(split_dump_path, \"wb\") as pickle_file:\n",
    "            pickle.dump(sevir_batched_gray_normed_data, pickle_file)\n",
    "        num_data_to_fill = file_index_splits-len(sevir_batched_gray_normed_data)\n",
    "        sevir_batched_gray_normed_data =  []\n",
    "        splits_so_far += 1\n",
    "        curr_h5_start_index = s_index + file_index_splits\n",
    "    f_indexes = range(curr_h5_start_index, f_index_length)\n",
    "    sevir_batched_gray_normed_data+= Parallel(n_jobs=40)(delayed(convert_sevir_h5_to_normed_grayCV)(f_index, h5_path, sevir_dtype) for f_index in tqdm(f_indexes))\n",
    "dump_f_name = \"gray_CV_data_split_\"+str(splits_so_far) + \".pickle\"\n",
    "split_dump_path = os.path.join(data_dump_path, dump_f_name)\n",
    "with open(split_dump_path, \"wb\") as pickle_file:\n",
    "    pickle.dump(sevir_batched_gray_normed_data, pickle_file)\n",
    "num_data_to_fill = file_index_splits-len(sevir_batched_gray_normed_data)\n",
    "sevir_batched_gray_normed_data =  []"
   ]
  },
  {
   "cell_type": "code",
   "execution_count": 20,
   "metadata": {},
   "outputs": [],
   "source": []
  },
  {
   "cell_type": "code",
   "execution_count": 19,
   "metadata": {},
   "outputs": [
    {
     "data": {
      "text/plain": [
       "27"
      ]
     },
     "execution_count": 19,
     "metadata": {},
     "output_type": "execute_result"
    }
   ],
   "source": [
    "splits_so_far"
   ]
  },
  {
   "cell_type": "code",
   "execution_count": 18,
   "metadata": {},
   "outputs": [
    {
     "name": "stdout",
     "output_type": "stream",
     "text": [
      "FALSE\n"
     ]
    }
   ],
   "source": [
    "!echo $HDF5_USE_FILE_LOCKING"
   ]
  },
  {
   "cell_type": "code",
   "execution_count": null,
   "metadata": {},
   "outputs": [],
   "source": [
    "import torch"
   ]
  },
  {
   "cell_type": "code",
   "execution_count": null,
   "metadata": {},
   "outputs": [],
   "source": [
    "import torch.nn as nn\n",
    "import torch.nn.functional as F\n",
    "\n",
    "\n",
    "class CnnNet(nn.Module):\n",
    "    def __init__(self):\n",
    "        super(Net, self).__init__()\n",
    "        self.conv1 = nn.Conv2d(2, 6, 5)\n",
    "        self.pool = nn.MaxPool2d(2, 2)\n",
    "        self.conv2 = nn.Conv2d(6, 16, 5)\n",
    "        self.fc1 = nn.Linear(16 * 5 * 5, 600)\n",
    "        self.fc2 = nn.Linear(400, 256)\n",
    "        self.fc3 = nn.Linear(256, 128)\n",
    "\n",
    "    def forward(self, x):\n",
    "        x = self.pool(F.relu(self.conv1(x)))\n",
    "        x = self.pool(F.relu(self.conv2(x)))\n",
    "        x = x.view(-1, 16 * 5 * 5)\n",
    "        x = F.relu(self.fc1(x))\n",
    "        x = F.relu(self.fc2(x))\n",
    "        x = self.fc3(x)\n",
    "        return x\n",
    "\n",
    "\n",
    "net = Net()"
   ]
  },
  {
   "cell_type": "code",
   "execution_count": null,
   "metadata": {},
   "outputs": [],
   "source": [
    "class LSTM(nn.Module):\n",
    " \n",
    "    def __init__(self, input_dim, hidden_dim, batch_size, output_dim=1,\n",
    "                    num_layers=2):\n",
    "        super(LSTM, self).__init__()\n",
    "        self.input_dim = input_dim\n",
    "        self.hidden_dim = hidden_dim\n",
    "        self.batch_size = batch_size\n",
    "        self.num_layers = num_layers\n",
    " \n",
    "        # Define the LSTM layer\n",
    "        self.lstm = nn.LSTM(self.input_dim, self.hidden_dim, self.num_layers)\n",
    " \n",
    "        # Define the output layer\n",
    "        self.linear = nn.Linear(self.hidden_dim, output_dim)\n",
    " \n",
    "    def init_hidden(self):\n",
    "        # This is what we'll initialise our hidden state as\n",
    "        return (torch.zeros(self.num_layers, self.batch_size, self.hidden_dim),\n",
    "                torch.zeros(self.num_layers, self.batch_size, self.hidden_dim))\n",
    " \n",
    "    def forward(self, input):\n",
    "        # Forward pass through LSTM layer\n",
    "        # shape of lstm_out: [input_size, batch_size, hidden_dim]\n",
    "        # shape of self.hidden: (a, b), where a and b both \n",
    "        # have shape (num_layers, batch_size, hidden_dim).\n",
    "        lstm_out, self.hidden = self.lstm(input.view(len(input), self.batch_size, -1))\n",
    "        \n",
    "        # Only take the output from the final timetep\n",
    "        # Can pass on the entirety of lstm_out to the next layer if it is a seq2seq prediction\n",
    "        y_pred = self.linear(lstm_out[-1].view(self.batch_size, -1))\n",
    "        return y_pred.view(-1)\n",
    " \n",
    "model = LSTM(128, h1, batch_size=1, output_dim=128, num_layers=4)"
   ]
  },
  {
   "cell_type": "code",
   "execution_count": null,
   "metadata": {},
   "outputs": [],
   "source": [
    "cmap,norm,vmin,vmax = get_cmap(\"vis\")\n",
    "sm = matplotlib.cm.ScalarMappable(cmap=cmap,norm=norm)\n",
    "fig,axs=plt.subplots(1,1)\n",
    "axs.get_xaxis().set_visible(False)\n",
    "axs.axes.get_yaxis().set_visible(False)\n",
    "plt.axis('off')\n",
    "axs.imshow(sm.to_rgba(sevir_data[:,:,0]))\n",
    "fig.canvas.draw()\n"
   ]
  },
  {
   "cell_type": "code",
   "execution_count": null,
   "metadata": {},
   "outputs": [],
   "source": [
    "imgs = []"
   ]
  },
  {
   "cell_type": "code",
   "execution_count": null,
   "metadata": {},
   "outputs": [],
   "source": [
    "print(len(imgs))"
   ]
  },
  {
   "cell_type": "code",
   "execution_count": null,
   "metadata": {},
   "outputs": [],
   "source": [
    "import numpy as np\n",
    "from math import cos, sin\n",
    "prvs = sevir_data_gray[0].astype(np.float32)\n",
    "#rgb = np.zeros_like(sevir_data_color[0]).astype(np.float32)\n",
    "#rgb[...,1] = 255\n",
    "index =0\n",
    "while(index<48):\n",
    "    index = index+1\n",
    "    next = sevir_data_gray[index]\n",
    "\n",
    "    #flow = OPTICAL_FLOW_CALC_METHOD.calc(prvs,next, None)\n",
    "    flow = cv2.calcOpticalFlowFarneback(prvs,next, None, 0.5, 3, 15, 3, 5, 1.2, 0)\n",
    "    mag, ang = cv2.cartToPolar(flow[...,0], flow[...,1])\n",
    "    mag2, ang2 = cv2.cartToPolar(flow[...,0], flow[...,1],angleInDegrees=False)\n",
    "    #print(ang2[192,240])\n",
    "    #rgb[...,0] = ang*180/np.pi/2\n",
    "    #rgb[...,2] = cv2.normalize(mag,None,0,255,cv2.NORM_MINMAX)\n",
    "    #rgb = cv2.cvtColor(hsv,cv2.COLOR_HSV2BGR)\n",
    "    print(flow.shape)\n",
    "    arrows = []\n",
    "    for x in range(ang.shape[1]):\n",
    "        for y in range(ang.shape[0]):\n",
    "            if(x%20==0 and y%20==0):\n",
    "            #print(ang[y][x])\n",
    "                P1 = (x,y)\n",
    "                P2 = (int(round(P1[0] + mag[y][x] * cos(ang[y][x]),0)),int(round(P1[1] + mag[y][x] * sin(ang[y][x]),0)))\n",
    "                arrows.append((P1,P2))\n",
    "    img = prvs\n",
    "    for arrow in arrows:\n",
    "        color = (0, 255, 0) \n",
    "        img=cv2.arrowedLine(np.float32(img), arrow[0],arrow[1],color=color)\n",
    "    imgs.append(img)\n",
    "    prvs = next"
   ]
  },
  {
   "cell_type": "code",
   "execution_count": null,
   "metadata": {},
   "outputs": [],
   "source": [
    "import time\n",
    "index = 0\n",
    "while(1):\n",
    "    index = index%48\n",
    "    cv2.imshow('frame2',imgs[index])\n",
    "    k = cv2.waitKey(30) & 0xff\n",
    "    if k == 27:\n",
    "        break\n",
    "    elif k == ord('s'):\n",
    "        cv2.imwrite('opticalfb.png',frame2)\n",
    "        cv2.imwrite('opticalhsv.png',rgb)\n",
    "    index = index+1\n",
    "    time.sleep(0.2)\n",
    "cv2.destroyAllWindows()"
   ]
  },
  {
   "cell_type": "code",
   "execution_count": null,
   "metadata": {},
   "outputs": [],
   "source": [
    "process_data_to_optical_flows_in_mem(\"ir069\",'./sevir_data/data')"
   ]
  },
  {
   "cell_type": "code",
   "execution_count": null,
   "metadata": {},
   "outputs": [],
   "source": [
    "def process_data_to_optical_flows_in_mem_real_time(sevir_dtype,  sevir_data_path, batch_size, use_cmap_norms=True):\n",
    "    h5_files = []\n",
    "    data_path = os.path.join(sevir_data_path, sevir_dtype)\n",
    "    year_dirs = os.listdir(data_path)\n",
    "    for year_dir in year_dirs:\n",
    "        year_path = os.path.join(data_path,year_dir)\n",
    "        h5_file_names = os.listdir(year_path)\n",
    "        for h5_file_name in h5_file_names:\n",
    "            h5_files.append(os.path.join(year_path,h5_file_name))\n",
    "    for h5_file"
   ]
  },
  {
   "cell_type": "code",
   "execution_count": null,
   "metadata": {},
   "outputs": [],
   "source": [
    "def process_data_to_optical_flows_to_disk(sevir_dtype,  sevir_data_path, optical_flow_paths, use_cmap_norms=True):"
   ]
  },
  {
   "cell_type": "code",
   "execution_count": null,
   "metadata": {},
   "outputs": [],
   "source": [
    "process_data_to_optical_flows(\"ir069\",\"./sevir_data/data\")"
   ]
  },
  {
   "cell_type": "code",
   "execution_count": null,
   "metadata": {},
   "outputs": [],
   "source": [
    "def "
   ]
  }
 ],
 "metadata": {
  "kernelspec": {
   "display_name": "Python [conda env:.conda-rainymotion]",
   "language": "python",
   "name": "conda-env-.conda-rainymotion-py"
  },
  "latex_envs": {
   "LaTeX_envs_menu_present": true,
   "autoclose": false,
   "autocomplete": true,
   "bibliofile": "biblio.bib",
   "cite_by": "apalike",
   "current_citInitial": 1,
   "eqLabelWithNumbers": true,
   "eqNumInitial": 1,
   "hotkeys": {
    "equation": "Ctrl-E",
    "itemize": "Ctrl-I"
   },
   "labels_anchors": false,
   "latex_user_defs": false,
   "report_style_numbering": false,
   "user_envs_cfg": false
  },
  "toc": {
   "base_numbering": 1,
   "nav_menu": {},
   "number_sections": true,
   "sideBar": true,
   "skip_h1_title": false,
   "title_cell": "Table of Contents",
   "title_sidebar": "Contents",
   "toc_cell": false,
   "toc_position": {},
   "toc_section_display": true,
   "toc_window_display": false
  },
  "varInspector": {
   "cols": {
    "lenName": 16,
    "lenType": 16,
    "lenVar": 40
   },
   "kernels_config": {
    "python": {
     "delete_cmd_postfix": "",
     "delete_cmd_prefix": "del ",
     "library": "var_list.py",
     "varRefreshCmd": "print(var_dic_list())"
    },
    "r": {
     "delete_cmd_postfix": ") ",
     "delete_cmd_prefix": "rm(",
     "library": "var_list.r",
     "varRefreshCmd": "cat(var_dic_list()) "
    }
   },
   "types_to_exclude": [
    "module",
    "function",
    "builtin_function_or_method",
    "instance",
    "_Feature"
   ],
   "window_display": false
  }
 },
 "nbformat": 4,
 "nbformat_minor": 4
}
