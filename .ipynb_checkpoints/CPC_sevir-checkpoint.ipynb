{
 "cells": [
  {
   "cell_type": "code",
   "execution_count": 1,
   "metadata": {},
   "outputs": [],
   "source": [
    "from __future__ import print_function\n",
    "import argparse\n",
    "import random\n",
    "import time\n",
    "import os\n",
    "import logging\n",
    "from timeit import default_timer as timer\n",
    "import glob\n",
    "\n",
    "## Libraries\n",
    "import numpy as np\n",
    "from sklearn.model_selection import train_test_split\n",
    "## Torch\n",
    "import torch\n",
    "import torch.nn as nn\n",
    "from torch.utils import data\n",
    "import torch.nn.functional as F\n",
    "import torch.optim as optim\n",
    "\n",
    "## Custrom Imports\n",
    "import CPC\n",
    "from CPC.train import trainXXreverse\n",
    "from CPC.validation import validationXXreverse\n",
    "from CPC.CPC_model import CDCK2, CDCK5, CDCK6"
   ]
  },
  {
   "cell_type": "code",
   "execution_count": 2,
   "metadata": {},
   "outputs": [],
   "source": [
    "batch_size=20"
   ]
  },
  {
   "cell_type": "code",
   "execution_count": 3,
   "metadata": {},
   "outputs": [
    {
     "data": {
      "text/plain": [
       "['./SEVIR_IR069_OPT_FLOWS/ir069gray_CV_data_split_0.pickle_flow.pickle',\n",
       " './SEVIR_IR069_OPT_FLOWS/ir069gray_CV_data_split_1.pickle_flow.pickle',\n",
       " './SEVIR_IR069_OPT_FLOWS/ir069gray_CV_data_split_2.pickle_flow.pickle',\n",
       " './SEVIR_IR069_OPT_FLOWS/ir069gray_CV_data_split_3.pickle_flow.pickle',\n",
       " './SEVIR_IR069_OPT_FLOWS/ir069gray_CV_data_split_4.pickle_flow.pickle',\n",
       " './SEVIR_IR069_OPT_FLOWS/ir069gray_CV_data_split_5.pickle_flow.pickle',\n",
       " './SEVIR_IR069_OPT_FLOWS/ir069gray_CV_data_split_6.pickle_flow.pickle',\n",
       " './SEVIR_IR069_OPT_FLOWS/ir069gray_CV_data_split_7.pickle_flow.pickle',\n",
       " './SEVIR_IR069_OPT_FLOWS/ir069gray_CV_data_split_8.pickle_flow.pickle',\n",
       " './SEVIR_IR069_OPT_FLOWS/ir069gray_CV_data_split_9.pickle_flow.pickle',\n",
       " './SEVIR_IR069_OPT_FLOWS/ir069gray_CV_data_split_10.pickle_flow.pickle',\n",
       " './SEVIR_IR069_OPT_FLOWS/ir069gray_CV_data_split_11.pickle_flow.pickle',\n",
       " './SEVIR_IR069_OPT_FLOWS/ir069gray_CV_data_split_12.pickle_flow.pickle',\n",
       " './SEVIR_IR069_OPT_FLOWS/ir069gray_CV_data_split_13.pickle_flow.pickle',\n",
       " './SEVIR_IR069_OPT_FLOWS/ir069gray_CV_data_split_14.pickle_flow.pickle',\n",
       " './SEVIR_IR069_OPT_FLOWS/ir069gray_CV_data_split_15.pickle_flow.pickle',\n",
       " './SEVIR_IR069_OPT_FLOWS/ir069gray_CV_data_split_16.pickle_flow.pickle',\n",
       " './SEVIR_IR069_OPT_FLOWS/ir069gray_CV_data_split_17.pickle_flow.pickle',\n",
       " './SEVIR_IR069_OPT_FLOWS/ir069gray_CV_data_split_18.pickle_flow.pickle',\n",
       " './SEVIR_IR069_OPT_FLOWS/ir069gray_CV_data_split_19.pickle_flow.pickle',\n",
       " './SEVIR_IR069_OPT_FLOWS/ir069gray_CV_data_split_20.pickle_flow.pickle',\n",
       " './SEVIR_IR069_OPT_FLOWS/ir069gray_CV_data_split_21.pickle_flow.pickle',\n",
       " './SEVIR_IR069_OPT_FLOWS/ir069gray_CV_data_split_22.pickle_flow.pickle',\n",
       " './SEVIR_IR069_OPT_FLOWS/ir069gray_CV_data_split_23.pickle_flow.pickle',\n",
       " './SEVIR_IR069_OPT_FLOWS/ir069gray_CV_data_split_24.pickle_flow.pickle',\n",
       " './SEVIR_IR069_OPT_FLOWS/ir069gray_CV_data_split_25.pickle_flow.pickle',\n",
       " './SEVIR_IR069_OPT_FLOWS/ir069gray_CV_data_split_26.pickle_flow.pickle',\n",
       " './SEVIR_IR069_OPT_FLOWS/ir069gray_CV_data_split_27.pickle_flow.pickle']"
      ]
     },
     "execution_count": 3,
     "metadata": {},
     "output_type": "execute_result"
    }
   ],
   "source": [
    "import pickle\n",
    "# with open(\"./SEVIR_IR069_NORMED_CMAPS/gray_CV_data_split_10.pickle\", \"rb\") as pickle_file:\n",
    "#     data_gray = pickle.load(pickle_file)\n",
    "sorted_file_paths = glob.glob(\"./SEVIR_IR069_OPT_FLOWS/*\")\n",
    "sorted_file_paths.sort(key = lambda x: int(x.split(\"/\")[-1].split(\".\")[0].split(\"_\")[-1]))\n",
    "sorted_file_paths"
   ]
  },
  {
   "cell_type": "code",
   "execution_count": null,
   "metadata": {},
   "outputs": [],
   "source": [
    "dataset = []\n",
    "for file_path in sorted_file_paths[0:len(sorted_file_paths)//2]:\n",
    "    with open(file_path, \"rb\") as pickle_file:\n",
    "        dataset.append(pickle.load(pickle_file))"
   ]
  },
  {
   "cell_type": "code",
   "execution_count": null,
   "metadata": {},
   "outputs": [],
   "source": [
    "dataset_validation = []\n",
    "dataset = []\n",
    "for file_path in sorted_file_paths[len(sorted_file_paths)//2,len(sorted_file_paths)//2+2]:\n",
    "    with open(file_path, \"rb\") as pickle_file:\n",
    "        dataset_validation.append(pickle.load(pickle_file))"
   ]
  },
  {
   "cell_type": "code",
   "execution_count": null,
   "metadata": {},
   "outputs": [],
   "source": [
    "np_cv_data = np.array([n[1] for x in dataset for n in x])"
   ]
  },
  {
   "cell_type": "code",
   "execution_count": null,
   "metadata": {},
   "outputs": [],
   "source": [
    "np_cv_data_valid = np.array([n[1] for x in dataset_validation for n in x])"
   ]
  },
  {
   "cell_type": "code",
   "execution_count": null,
   "metadata": {},
   "outputs": [],
   "source": [
    "print(np_cv_data.shape)"
   ]
  },
  {
   "cell_type": "code",
   "execution_count": null,
   "metadata": {},
   "outputs": [],
   "source": [
    "np_cv_data = np.moveaxis(np_cv_data, -1,2)\n",
    "#np_cv_data_valid = np.moveaxis(np_cv_data_valid, -1,2)"
   ]
  },
  {
   "cell_type": "code",
   "execution_count": null,
   "metadata": {},
   "outputs": [],
   "source": [
    "np_cv_data_reverse = np.flip(np_cv_data, axis=1).copy()\n",
    "#np_cv_data_valid_reverse = np.flip(np_cv_data_valid, axis=1).copy()"
   ]
  },
  {
   "cell_type": "code",
   "execution_count": null,
   "metadata": {},
   "outputs": [],
   "source": [
    "np_cv_data_reverse.shape"
   ]
  },
  {
   "cell_type": "code",
   "execution_count": null,
   "metadata": {},
   "outputs": [],
   "source": [
    "dataset = [(np_cv_data[i], np_cv_data_reverse[i]) for i in range(len(np_cv_data))]"
   ]
  },
  {
   "cell_type": "code",
   "execution_count": null,
   "metadata": {},
   "outputs": [],
   "source": [
    "dataset_valid = [(np_cv_data_valid[i], np_cv_data_valid_reverse[i]) for i in range(len(np_cv_data_valid))]"
   ]
  },
  {
   "cell_type": "code",
   "execution_count": null,
   "metadata": {},
   "outputs": [],
   "source": [
    "np_cv_data_train, np_cv_data_test = train_test_split(dataset, shuffle=False)"
   ]
  },
  {
   "cell_type": "code",
   "execution_count": null,
   "metadata": {},
   "outputs": [],
   "source": [
    "np_cv_data_train[0][0].shape"
   ]
  },
  {
   "cell_type": "code",
   "execution_count": null,
   "metadata": {},
   "outputs": [],
   "source": [
    "epochs = 50\n",
    "log_interval = 2\n",
    "batch_size=25"
   ]
  },
  {
   "cell_type": "code",
   "execution_count": null,
   "metadata": {},
   "outputs": [],
   "source": [
    "use_cuda = torch.cuda.is_available()"
   ]
  },
  {
   "cell_type": "code",
   "execution_count": null,
   "metadata": {},
   "outputs": [],
   "source": [
    "device = torch.device(\"cuda\" if use_cuda else \"cpu\")"
   ]
  },
  {
   "cell_type": "code",
   "execution_count": null,
   "metadata": {},
   "outputs": [],
   "source": [
    "train_loader = data.DataLoader(np_cv_data_train, batch_size=batch_size, shuffle=True)"
   ]
  },
  {
   "cell_type": "code",
   "execution_count": null,
   "metadata": {},
   "outputs": [],
   "source": [
    "valid_loader = data.DataLoader(np_cv_data_test, batch_size=batch_size, shuffle=True)"
   ]
  },
  {
   "cell_type": "code",
   "execution_count": null,
   "metadata": {},
   "outputs": [],
   "source": [
    "model = CDCK6(1, batch_size, 48,2, np_cv_data.shape[-2], np_cv_data.shape[-1], device).to(device)"
   ]
  },
  {
   "cell_type": "code",
   "execution_count": null,
   "metadata": {},
   "outputs": [],
   "source": [
    "class ScheduledOptim(object):\n",
    "    \"\"\"A simple wrapper class for learning rate scheduling\"\"\"\n",
    "\n",
    "    def __init__(self, optimizer, n_warmup_steps):\n",
    "        self.optimizer = optimizer\n",
    "        self.d_model = 128 \n",
    "        self.n_warmup_steps = n_warmup_steps\n",
    "        self.n_current_steps = 0 \n",
    "        self.delta = 1\n",
    "\n",
    "    def state_dict(self):\n",
    "        self.optimizer.state_dict()\n",
    "\n",
    "    def step(self):\n",
    "        \"\"\"Step by the inner optimizer\"\"\"\n",
    "        self.optimizer.step()\n",
    "\n",
    "    def zero_grad(self):\n",
    "        \"\"\"Zero out the gradients by the inner optimizer\"\"\"\n",
    "        self.optimizer.zero_grad()\n",
    "\n",
    "    def increase_delta(self):\n",
    "        self.delta *= 2\n",
    "\n",
    "    def update_learning_rate(self):\n",
    "        \"\"\"Learning rate scheduling per step\"\"\"\n",
    "\n",
    "        self.n_current_steps += self.delta\n",
    "        new_lr = np.power(self.d_model, -0.5) * np.min([\n",
    "            np.power(self.n_current_steps, -0.5),\n",
    "            np.power(self.n_warmup_steps, -1.5) * self.n_current_steps])\n",
    "\n",
    "        for param_group in self.optimizer.param_groups:\n",
    "            param_group['lr'] = new_lr\n",
    "        return new_lr"
   ]
  },
  {
   "cell_type": "code",
   "execution_count": null,
   "metadata": {},
   "outputs": [],
   "source": [
    "optimizer = ScheduledOptim(\n",
    "        optim.Adam(\n",
    "            filter(lambda p: p.requires_grad, model.parameters()), \n",
    "            lr=0.01),\n",
    "        20)"
   ]
  },
  {
   "cell_type": "code",
   "execution_count": null,
   "metadata": {},
   "outputs": [],
   "source": [
    "for epoch in range(1, epochs + 1):\n",
    "        epoch_timer = timer()\n",
    "\n",
    "        # Train and validate\n",
    "        #trainXXreverse(args, model, device, train_loader, optimizer, epoch, args.batch_size)\n",
    "        #val_acc, val_loss = validationXXreverse(args, model, device, validation_loader, args.batch_size)\n",
    "        trainXXreverse(log_interval, model, device, train_loader, optimizer, epoch, batch_size)\n",
    "        #val_acc, val_loss = validation(args, model, device, validation_loader, args.batch_size)\n",
    "        val_acc, val_loss = validationXXreverse(model, device, valid_loader, batch_size)\n",
    "        \n",
    "        # Save\n",
    "        if False: \n",
    "            best_acc = max(val_acc, best_acc)\n",
    "            print(\"best epoch:\" + str(epoch))\n",
    "            best_epoch = epoch + 1\n",
    "        elif epoch % 20 == 0:\n",
    "            optimizer.increase_delta()\n",
    "            best_epoch = epoch + 1\n",
    "        \n",
    "        end_epoch_timer = timer()\n",
    "        #logger.info(\"#### End epoch {}/{}, elapsed time: {}\".format(epoch, 20, end_epoch_timer - epoch_timer))"
   ]
  },
  {
   "cell_type": "code",
   "execution_count": null,
   "metadata": {},
   "outputs": [],
   "source": []
  },
  {
   "cell_type": "code",
   "execution_count": null,
   "metadata": {},
   "outputs": [],
   "source": []
  }
 ],
 "metadata": {
  "kernelspec": {
   "display_name": "Python [conda env:.conda-rainymotion]",
   "language": "python",
   "name": "conda-env-.conda-rainymotion-py"
  },
  "language_info": {
   "codemirror_mode": {
    "name": "ipython",
    "version": 3
   },
   "file_extension": ".py",
   "mimetype": "text/x-python",
   "name": "python",
   "nbconvert_exporter": "python",
   "pygments_lexer": "ipython3",
   "version": "3.8.3"
  }
 },
 "nbformat": 4,
 "nbformat_minor": 4
}
