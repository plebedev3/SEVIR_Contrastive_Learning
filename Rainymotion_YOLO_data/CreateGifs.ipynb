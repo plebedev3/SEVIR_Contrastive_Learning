{
 "cells": [
  {
   "cell_type": "code",
   "execution_count": 12,
   "metadata": {},
   "outputs": [],
   "source": [
    "import imageio\n",
    "import numpy as np\n",
    "import cv2\n",
    "import os\n",
    "from glob import glob\n",
    "from PIL import Image"
   ]
  },
  {
   "cell_type": "code",
   "execution_count": 2,
   "metadata": {},
   "outputs": [],
   "source": [
    "blank_imgs = [np.zeros((192,192,3)) for i in range(7)]"
   ]
  },
  {
   "cell_type": "code",
   "execution_count": 3,
   "metadata": {},
   "outputs": [],
   "source": [
    "blank_names = []\n",
    "for i, blank_img in enumerate(blank_imgs):\n",
    "    blank_names.append(\"./blank_img_pad/\"+str(i)+\".png\")\n",
    "    cv2.imwrite(\"./blank_img_pad/\"+str(i)+\".png\", blank_img)"
   ]
  },
  {
   "cell_type": "code",
   "execution_count": 4,
   "metadata": {},
   "outputs": [],
   "source": [
    "sevir_id = \"S840618\""
   ]
  },
  {
   "cell_type": "code",
   "execution_count": 28,
   "metadata": {},
   "outputs": [
    {
     "name": "stdout",
     "output_type": "stream",
     "text": [
      "(369, 369)\n"
     ]
    }
   ],
   "source": [
    "forecast_folder_root = os.path.join(sevir_id,\"FORECAST\",\"pred\")\n",
    "\n",
    "forecast_folders = glob(forecast_folder_root+\"/*\")\n",
    "\n",
    "forecast_files = [file for folder in forecast_folders for file in glob(folder+\"/*\")]\n",
    "\n",
    "forecast_files = sorted(forecast_files, key=lambda x: int(x.split(\"/\")[-1].replace('.png', '')))\n",
    "\n",
    "forecast_files = blank_names + forecast_files\n",
    "\n",
    "print(Image.open(forecast_files[-1]).size)\n",
    "\n",
    "img, *imgs = [Image.open(f).resize((192,192)) for f in forecast_files]\n",
    "img.save(fp=\"./\"+sevir_id+\"/nowcasted_lightning.gif\", format='GIF', append_images=imgs,\n",
    "         save_all=True, duration=400, loop=0)"
   ]
  },
  {
   "cell_type": "code",
   "execution_count": 29,
   "metadata": {},
   "outputs": [],
   "source": [
    "true_pred_folder_root = os.path.join(sevir_id,\"TRUE\",\"pred\")\n",
    "\n",
    "true_pred_files = glob(true_pred_folder_root+\"/*\")\n",
    "\n",
    "true_pred_files = sorted(true_pred_files, key=lambda x: int(x.split(\"/\")[-1].replace('.png', '')))\n",
    "\n",
    "img, *imgs = [Image.open(f).resize((192,192)) for f in true_pred_files]\n",
    "img.save(fp=\"./\"+sevir_id+\"/true_pred.gif\", format='GIF', append_images=imgs,\n",
    "         save_all=True, duration=400, loop=0)"
   ]
  },
  {
   "cell_type": "code",
   "execution_count": 30,
   "metadata": {},
   "outputs": [],
   "source": [
    "true_pred_folder_root = os.path.join(sevir_id,\"TRUE\",\"lght_box\")\n",
    "\n",
    "true_pred_files = glob(true_pred_folder_root+\"/*\")\n",
    "\n",
    "true_pred_files = sorted(true_pred_files, key=lambda x: int(x.split(\"/\")[-1].replace('.png', '')))\n",
    "\n",
    "img, *imgs = [Image.open(f).resize((192,192)) for f in true_pred_files]\n",
    "img.save(fp=\"./\"+sevir_id+\"/true_loc.gif\", format='GIF', append_images=imgs,\n",
    "         save_all=True, duration=400, loop=0)"
   ]
  },
  {
   "cell_type": "markdown",
   "metadata": {},
   "source": [
    "![SegmentLocal](./S840618/true_pred.gif \"segment\")\n",
    "![SegmentLocal](./S840618/nowcasted_lightning.gif \"segment\")\n",
    "![SegmentLocal](./S840618/true_loc.gif \"segment\")"
   ]
  },
  {
   "cell_type": "code",
   "execution_count": null,
   "metadata": {},
   "outputs": [],
   "source": []
  }
 ],
 "metadata": {
  "kernelspec": {
   "display_name": "Python [conda env:.conda-rainymotion]",
   "language": "python",
   "name": "conda-env-.conda-rainymotion-py"
  },
  "language_info": {
   "codemirror_mode": {
    "name": "ipython",
    "version": 3
   },
   "file_extension": ".py",
   "mimetype": "text/x-python",
   "name": "python",
   "nbconvert_exporter": "python",
   "pygments_lexer": "ipython3",
   "version": "3.8.3"
  }
 },
 "nbformat": 4,
 "nbformat_minor": 4
}
